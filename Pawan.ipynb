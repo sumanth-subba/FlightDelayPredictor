{
 "cells": [
  {
   "cell_type": "code",
   "execution_count": 36,
   "metadata": {},
   "outputs": [],
   "source": [
    "import numpy as np\n",
    "import pandas as pd\n",
    "from sklearn.model_selection import train_test_split\n",
    "from sklearn.linear_model import Lasso, LinearRegression\n",
    "from sklearn.metrics import mean_squared_error, mean_absolute_error\n",
    "from sklearn.metrics import r2_score\n",
    "import matplotlib.pyplot as plt\n",
    "import seaborn as sns\n",
    "from sklearn.svm import SVR\n",
    "from sklearn import tree\n",
    "from sklearn.metrics import classification_report, accuracy_score, f1_score\n",
    "from sklearn.ensemble import GradientBoostingClassifier\n",
    "from sklearn.model_selection import cross_val_score\n",
    "from sklearn.linear_model import LinearRegression\n",
    "from sklearn.metrics import mean_squared_error, r2_score\n",
    "from sklearn.model_selection import GridSearchCV\n",
    "import graphviz"
   ]
  },
  {
   "cell_type": "code",
   "execution_count": 37,
   "metadata": {},
   "outputs": [],
   "source": [
    "flights_df = pd.read_csv('complete_flight_info_and weather_data.csv')\n",
    "\n",
    "# convert flight date to date object\n",
    "flights_df = flights_df.drop(['date', 'date.1','CRS_DEP_TIME','ORIGIN','DEST'], axis=1)\n",
    "\n",
    "flights_df = flights_df.dropna()\n",
    " \n",
    "flights_df['FL_DATE'] = pd.to_datetime(flights_df['FL_DATE'])\n",
    "del flights_df['DOT_CODE']\n",
    "# Remove columns starting with 'origin' and 'dest'\n",
    "columns_to_remove = [col for col in flights_df.columns if col.startswith('ORIGIN') or col.startswith('DEST')]\n",
    "flights_df = flights_df.drop(columns=columns_to_remove)\n",
    "\n",
    "# converts string TRUE/FALSE to boolean\n",
    "flights_df.replace({'TRUE': True, 'FALSE': False}, inplace=True)\n",
    "\n",
    "# convert FL_Date to year, month, day\n",
    "flights_df['FL_YEAR'] = pd.to_datetime(flights_df['FL_DATE']).dt.year\n",
    "flights_df['FL_MONTH'] = pd.to_datetime(flights_df['FL_DATE']).dt.month\n",
    "flights_df['FL_DAY'] = pd.to_datetime(flights_df['FL_DATE']).dt.day\n",
    "\n",
    "# drop original date time\n",
    "flights_df.drop(columns=['FL_DATE'], inplace=True)\n",
    "\n",
    "X = flights_df.loc[:, flights_df.columns != 'ARR_DELAY']\n",
    "y = flights_df['ARR_DELAY']\n",
    "\n",
    "X_train, X_test, y_train, y_test = train_test_split(X, y, test_size=0.2, random_state = 156, shuffle=True)"
   ]
  },
  {
   "cell_type": "code",
   "execution_count": null,
   "metadata": {},
   "outputs": [],
   "source": [
    "def backward_subset_selection(X, y, cv=5):\n",
    "    remaining_features = list(X.columns)\n",
    "    selected_features = remaining_features[:]\n",
    "    model = LinearRegression()\n",
    "    scores = cross_val_score(model, X[selected_features], y, cv=cv, scoring='r2')\n",
    "    best_score = scores.mean()\n",
    "    \n",
    "    while len(selected_features) > 1:\n",
    "        worst_feature = None\n",
    "        for feature in selected_features:\n",
    "            remaining_features.remove(feature)\n",
    "            scores = cross_val_score(model, X[remaining_features], y, cv=cv, scoring='r2')\n",
    "            mean_score = scores.mean()\n",
    "            if mean_score > best_score:\n",
    "                best_score = mean_score\n",
    "                worst_feature = feature\n",
    "            remaining_features.append(feature)\n",
    "        \n",
    "        if worst_feature is not None:\n",
    "            selected_features.remove(worst_feature)\n",
    "            remaining_features.remove(worst_feature)\n",
    "        else:\n",
    "            break\n",
    "    \n",
    "    return selected_features\n",
    "\n",
    "selected_features_backward = backward_subset_selection(X_train, y_train)\n",
    "print(\"Selected Features (Backward):\", selected_features_backward)"
   ]
  },
  {
   "cell_type": "code",
   "execution_count": null,
   "metadata": {},
   "outputs": [],
   "source": [
    "# Subset X_train to include only the selected features\n",
    "X_train_subset = X_train[selected_features]\n",
    "\n",
    "# Initialize and train the linear regression model\n",
    "model = LinearRegression()\n",
    "model.fit(X_train_subset, y_train)\n",
    "\n",
    "# Predict on the training data\n",
    "y_train_pred = model.predict(X_train_subset)\n",
    "\n",
    "# Evaluate the model\n",
    "mse_train = mean_squared_error(y_train, y_train_pred)\n",
    "r2_train = r2_score(y_train, y_train_pred)\n",
    "\n",
    "print(\"Training MSE:\", mse_train)\n",
    "print(\"Training R-squared:\", r2_train)\n",
    "# Calculate MAPE for training set\n",
    "mape_train = np.mean(np.abs((y_train - y_train_pred) / y_train)) * 100\n",
    "\n",
    "print(\"Training MAPE:\", mape_train)"
   ]
  },
  {
   "cell_type": "code",
   "execution_count": null,
   "metadata": {},
   "outputs": [],
   "source": [
    "# Subset X_test to include only the selected features\n",
    "X_test_subset = X_test[selected_features]\n",
    "\n",
    "# Predict on the testing data\n",
    "y_test_pred = model.predict(X_test_subset)\n",
    "\n",
    "# Evaluate the model on testing data\n",
    "mse_test = mean_squared_error(y_test, y_test_pred)\n",
    "r2_test = r2_score(y_test, y_test_pred)\n",
    "\n",
    "print(\"Testing MSE:\", mse_test)\n",
    "print(\"Testing R-squared:\", r2_test)\n",
    "# Calculate MAPE for training set\n",
    "mape_train = np.mean(np.abs((y_test - y_test_pred) / y_test)) * 100\n",
    "\n",
    "print(\"Test MAPE:\", mape_train)"
   ]
  },
  {
   "cell_type": "code",
   "execution_count": null,
   "metadata": {},
   "outputs": [],
   "source": [
    "model = tree.DecisionTreeRegressor(max_depth=2, random_state=156) \n",
    "model = model.fit(X_train, y_train)\n",
    "\n",
    "model_text = tree.export_text(model, feature_names=list(X_train.columns))\n",
    "print(model_text)"
   ]
  },
  {
   "cell_type": "code",
   "execution_count": null,
   "metadata": {},
   "outputs": [],
   "source": [
    "fi = model.feature_importances_\n",
    "\n",
    "names = X_train.columns\n",
    "importance_dict = dict(zip(names, fi))\n",
    "\n",
    "print(\"Feature Importance:\")\n",
    "for feature, importance in importance_dict.items():\n",
    "    print(f\"{feature}: {importance}\")"
   ]
  },
  {
   "cell_type": "code",
   "execution_count": 43,
   "metadata": {},
   "outputs": [
    {
     "name": "stdout",
     "output_type": "stream",
     "text": [
      "1577.5270404657927 0.8681693985770631\n"
     ]
    }
   ],
   "source": [
    "preds = model.predict(X_test)\n",
    "print(mean_squared_error(y_test, preds), r2_score(y_test, preds))\n"
   ]
  },
  {
   "cell_type": "code",
   "execution_count": null,
   "metadata": {},
   "outputs": [],
   "source": [
    "mse = {'k':[], 'train_mse':[], 'test_mse':[], 'train_r2':[], 'test_r2':[], 'test_MAPE': []}\n",
    "for k in range(1,30):\n",
    "    print(\"Fit with max_depth:\", k, end='\\r', flush=True)\n",
    "    \n",
    "    model = tree.DecisionTreeRegressor(max_depth=k)\n",
    "    model = model.fit(X_train, y_train)\n",
    "    preds_train = model.predict(X_train)\n",
    "    preds_test = model.predict(X_test)\n",
    "\n",
    "    mse['k'].append(k)\n",
    "    mse['train_mse'].append(mean_squared_error(y_train, preds_train))\n",
    "    mse['test_mse'].append(mean_squared_error(y_test, preds_test))\n",
    "    mse['train_r2'].append(r2_score(y_train, preds_train))\n",
    "    mse['test_r2'].append(r2_score(y_test, preds_test))\n",
    "    # Calculate MAPE\n",
    "    abs_errors = np.abs(y_test - y_test_pred)\n",
    "    percentage_errors = (abs_errors / y_test) * 100\n",
    "    mse['test_MAPE'].append(np.mean(percentage_errors))\n",
    "\n",
    "    \n",
    "idx = mse['test_mse'].index(min(mse['test_mse']))\n",
    "print('Depth of the model yielding minimum test MSE is:', mse['k'][idx])\n",
    "print('Optimized model has MSE:', min(mse['test_mse']), 'Optimized model has R2:', mse['test_r2'][idx], 'Optimized model has MAPE:', mse['test_MAPE'][idx])\n"
   ]
  },
  {
   "cell_type": "code",
   "execution_count": null,
   "metadata": {},
   "outputs": [],
   "source": [
    "# Initialize Gradient Boosting Regressor\n",
    "model_gb = GradientBoostingRegressor(random_state=156)\n",
    "\n",
    "# Fit the model\n",
    "model_gb.fit(X_train, y_train)\n",
    "\n",
    "# Make predictions\n",
    "preds_test = model_gb.predict(X_test)\n",
    "\n",
    "# Evaluate the model\n",
    "print(mean_squared_error(y_test, preds_test), r2_score(y_test, preds_test))\n",
    "\n",
    "# Set up parameters for Grid Search\n",
    "params = {\n",
    "    'max_depth': np.arange(1, 30, 5),\n",
    "    'n_estimators': np.arange(1, 30, 5)\n",
    "}\n",
    "\n",
    "# Initialize Grid Search\n",
    "grid_search = GridSearchCV(estimator=model_gb, param_grid=params, cv=5, n_jobs=-1, verbose=1, scoring='neg_mean_absolute_error', return_train_score=True)\n",
    "\n",
    "# Fit the Grid Search\n",
    "grid_search.fit(X_train, y_train)\n",
    "\n"
   ]
  },
  {
   "cell_type": "code",
   "execution_count": null,
   "metadata": {},
   "outputs": [],
   "source": [
    "# Get the best estimator and show parameters\n",
    "grid_search.best_params_"
   ]
  },
  {
   "cell_type": "code",
   "execution_count": null,
   "metadata": {},
   "outputs": [],
   "source": [
    "# Evaluate the tuned model\n",
    "\n",
    "clf_best = grid_search.best_estimator_\n",
    "y_test_pred = clf_best.predict(X_test)\n",
    "\n",
    "# Calculate MSE and R-squared\n",
    "mse = mean_squared_error(y_test, y_test_pred)\n",
    "r2 = r2_score(y_test, y_test_pred)\n",
    "\n",
    "# Calculate MAPE\n",
    "abs_errors = np.abs(y_test - y_test_pred)\n",
    "percentage_errors = (abs_errors / y_test) * 100\n",
    "mape = np.mean(percentage_errors)\n",
    "\n",
    "print('Hyperparameter tuning of boosting yields MSE and R-squared:', mean_squared_error(y_test, y_test_pred), r2_score(y_test, y_test_pred))\n",
    "print('MSE:', mse)\n",
    "print('R-squared:', r2)\n",
    "print('MAPE:', mape)"
   ]
  },
  {
   "cell_type": "code",
   "execution_count": null,
   "metadata": {},
   "outputs": [],
   "source": [
    "# Create the scatter plot\n",
    "plt.scatter( y_test_pred, y_test)\n",
    "\n",
    "plt.ylabel('ARR_DELAY'.capitalize())\n",
    "plt.yticks([0, 50, 100, 150, 200], ['0', '50', '100', '150', '200'])\n",
    "\n",
    "plt.xlabel('PREDICT_ARR_DELAY'.capitalize())\n",
    "plt.xticks([0, 50, 100, 150, 200], ['0', '50', '100', '150', '200'])\n",
    "\n",
    "plt.xlim([0, 200])\n",
    "plt.ylim([0, 200])\n",
    "\n",
    "plt.title('Scatter Plot of ARR_DELAY vs PREDICT_ARR_DELAY')\n",
    "\n",
    "plt.show()"
   ]
  }
 ],
 "metadata": {
  "kernelspec": {
   "display_name": "Python 3",
   "language": "python",
   "name": "python3"
  },
  "language_info": {
   "codemirror_mode": {
    "name": "ipython",
    "version": 3
   },
   "file_extension": ".py",
   "mimetype": "text/x-python",
   "name": "python",
   "nbconvert_exporter": "python",
   "pygments_lexer": "ipython3",
   "version": "3.9.6"
  }
 },
 "nbformat": 4,
 "nbformat_minor": 2
}
