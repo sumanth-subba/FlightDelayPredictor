{
 "cells": [
  {
   "cell_type": "code",
   "execution_count": 9,
   "metadata": {},
   "outputs": [],
   "source": [
    "import numpy as np\n",
    "import pandas as pd\n",
    "from sklearn.model_selection import train_test_split\n",
    "from sklearn.linear_model import Lasso, LinearRegression\n",
    "from sklearn.metrics import mean_squared_error, mean_absolute_error\n",
    "from sklearn.metrics import r2_score\n",
    "import matplotlib.pyplot as plt\n",
    "import seaborn as sns\n",
    "from sklearn.svm import SVR"
   ]
  },
  {
   "cell_type": "code",
   "execution_count": 10,
   "metadata": {},
   "outputs": [],
   "source": [
    "flights_df = pd.read_csv('complete_flight_info_and weather_data.csv')\n",
    "\n",
    "# convert flight date to date object\n",
    "flights_df = flights_df.drop(['date', 'date.1','CRS_DEP_TIME','ORIGIN','DEST'], axis=1)\n",
    "\n",
    "flights_df = flights_df.dropna()\n",
    " \n",
    "flights_df['FL_DATE'] = pd.to_datetime(flights_df['FL_DATE'])\n",
    "del flights_df['DOT_CODE']\n",
    "# Remove columns starting with 'origin' and 'dest'\n",
    "columns_to_remove = [col for col in flights_df.columns if col.startswith('ORIGIN') or col.startswith('DEST')]\n",
    "flights_df = flights_df.drop(columns=columns_to_remove)\n",
    "\n",
    "# converts string TRUE/FALSE to boolean\n",
    "flights_df.replace({'TRUE': True, 'FALSE': False}, inplace=True)\n",
    "\n",
    "# convert FL_Date to year, month, day\n",
    "flights_df['FL_YEAR'] = pd.to_datetime(flights_df['FL_DATE']).dt.year\n",
    "flights_df['FL_MONTH'] = pd.to_datetime(flights_df['FL_DATE']).dt.month\n",
    "flights_df['FL_DAY'] = pd.to_datetime(flights_df['FL_DATE']).dt.day\n",
    "\n",
    "# drop original date time\n",
    "flights_df.drop(columns=['FL_DATE'], inplace=True)"
   ]
  },
  {
   "cell_type": "code",
   "execution_count": 12,
   "metadata": {},
   "outputs": [
    {
     "name": "stdout",
     "output_type": "stream",
     "text": [
      "MSE: 10185.877427845573\n",
      "MAE: 41.55979860667354\n",
      "R2: -59.46343810187049\n"
     ]
    }
   ],
   "source": [
    "X = flights_df[ ['DEP_DELAY', 'TAXI_OUT', 'CRS_ELAPSED_TIME', 'DISTANCE', 'FL_NUMBER', 'FL_YEAR', 'dest_cloud_cover', 'DEP_TIME', 'dep_temperature_2m', 'dest_snow_depth']]\n",
    "y = flights_df['ARR_DELAY']\n",
    "\n",
    "X_train, X_test, y_train, y_test = train_test_split(X, y, test_size=0.2, random_state = 156, shuffle=True)\n",
    "\n",
    "svr_rbf = SVR(kernel='rbf')\n",
    "\n",
    "svr_rbf.fit(X_train, y_train)\n",
    "\n",
    "svr_predict = svr_rbf.predict(X_test)\n",
    "\n",
    "print('MSE: ' + str(mean_squared_error(svr_predict, y_test)))\n",
    "print('MAE: ' + str(mean_absolute_error(svr_predict, y_test)))\n",
    "print('R2: ' + str(r2_score(svr_predict, y_test)))"
   ]
  },
  {
   "cell_type": "code",
   "execution_count": 11,
   "metadata": {},
   "outputs": [],
   "source": [
    "def mean_absolute_percentage_error(y_true, y_pred): \n",
    "    y_true, y_pred = np.array(y_true), np.array(y_pred)\n",
    "    return np.mean(np.abs((y_true - y_pred) / y_true)) * 100"
   ]
  }
 ],
 "metadata": {
  "kernelspec": {
   "display_name": "Python 3 (ipykernel)",
   "language": "python",
   "name": "python3"
  },
  "language_info": {
   "codemirror_mode": {
    "name": "ipython",
    "version": 3
   },
   "file_extension": ".py",
   "mimetype": "text/x-python",
   "name": "python",
   "nbconvert_exporter": "python",
   "pygments_lexer": "ipython3",
   "version": "3.11.5"
  }
 },
 "nbformat": 4,
 "nbformat_minor": 2
}
