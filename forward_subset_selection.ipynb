{
 "cells": [
  {
   "cell_type": "code",
   "execution_count": 1,
   "metadata": {},
   "outputs": [],
   "source": [
    "import numpy as np\n",
    "import pandas as pd\n",
    "from sklearn.model_selection import train_test_split\n",
    "from sklearn.linear_model import Lasso, LinearRegression\n",
    "from sklearn.metrics import mean_squared_error, mean_absolute_error\n",
    "from sklearn.metrics import r2_score\n",
    "import matplotlib.pyplot as plt\n",
    "import seaborn as sns\n",
    "from sklearn.svm import SVR\n",
    "from sklearn import tree\n",
    "from sklearn.metrics import classification_report, accuracy_score, f1_score\n",
    "from sklearn.ensemble import RandomForestRegressor\n",
    "from sklearn.model_selection import cross_val_score\n",
    "from sklearn.linear_model import LinearRegression\n",
    "import graphviz"
   ]
  },
  {
   "cell_type": "code",
   "execution_count": 2,
   "metadata": {},
   "outputs": [],
   "source": [
    "flights_df = pd.read_csv('complete_flight_info_and weather_data.csv')\n",
    "\n",
    "# convert flight date to date object\n",
    "flights_df = flights_df.drop(['date', 'date.1','CRS_DEP_TIME','ORIGIN','DEST'], axis=1)\n",
    "\n",
    "flights_df = flights_df.dropna()\n",
    " \n",
    "flights_df['FL_DATE'] = pd.to_datetime(flights_df['FL_DATE'])\n",
    "del flights_df['DOT_CODE']\n",
    "# Remove columns starting with 'origin' and 'dest'\n",
    "columns_to_remove = [col for col in flights_df.columns if col.startswith('ORIGIN') or col.startswith('DEST')]\n",
    "flights_df = flights_df.drop(columns=columns_to_remove)\n",
    "\n",
    "# converts string TRUE/FALSE to boolean\n",
    "flights_df.replace({'TRUE': True, 'FALSE': False}, inplace=True)\n",
    "\n",
    "# convert FL_Date to year, month, day\n",
    "flights_df['FL_YEAR'] = pd.to_datetime(flights_df['FL_DATE']).dt.year\n",
    "flights_df['FL_MONTH'] = pd.to_datetime(flights_df['FL_DATE']).dt.month\n",
    "flights_df['FL_DAY'] = pd.to_datetime(flights_df['FL_DATE']).dt.day\n",
    "\n",
    "# drop original date time\n",
    "flights_df.drop(columns=['FL_DATE'], inplace=True)\n",
    "\n",
    "X = flights_df.loc[:, flights_df.columns != 'ARR_DELAY']\n",
    "y = flights_df['ARR_DELAY']\n",
    "\n",
    "X_train, X_test, y_train, y_test = train_test_split(X, y, test_size=0.2, random_state = 156, shuffle=True)"
   ]
  },
  {
   "cell_type": "code",
   "execution_count": 3,
   "metadata": {},
   "outputs": [
    {
     "name": "stdout",
     "output_type": "stream",
     "text": [
      "Selected Features: ['DEP_DELAY', 'TAXI_OUT', 'CRS_ELAPSED_TIME', 'DISTANCE', 'FL_NUMBER', 'FL_YEAR', 'dest_cloud_cover', 'DEP_TIME', 'dep_temperature_2m', 'dest_snow_depth']\n"
     ]
    }
   ],
   "source": [
    "def forward_subset_selection(X, y, max_features=None, cv=5):\n",
    "    selected_features = []\n",
    "    best_score = float('-inf')\n",
    "    \n",
    "    while len(selected_features) < max_features:\n",
    "        best_feature = None\n",
    "        for feature in X.columns:\n",
    "            if feature not in selected_features:\n",
    "                features_to_try = selected_features + [feature]\n",
    "                X_subset = X[features_to_try]\n",
    "                model = LinearRegression()\n",
    "                scores = cross_val_score(model, X_subset, y, cv=cv, scoring='r2')\n",
    "                mean_score = scores.mean()\n",
    "                if mean_score > best_score:\n",
    "                    best_score = mean_score\n",
    "                    best_feature = feature\n",
    "        if best_feature is None:\n",
    "            break\n",
    "        selected_features.append(best_feature)\n",
    "    \n",
    "    return selected_features\n",
    "\n",
    "# Example usage:\n",
    "# X_train: training features, y_train: training labels\n",
    "# max_features: maximum number of features to select\n",
    "selected_features = forward_subset_selection(X_train, y_train, max_features=10)\n",
    "print(\"Selected Features:\", selected_features)"
   ]
  },
  {
   "cell_type": "code",
   "execution_count": 4,
   "metadata": {},
   "outputs": [
    {
     "name": "stdout",
     "output_type": "stream",
     "text": [
      "Training MSE: 112.50737580068535\n",
      "Training R-squared: 0.9925707449233834\n",
      "Training MAPE: 20.757756951829247\n"
     ]
    }
   ],
   "source": [
    "# Subset X_train to include only the selected features\n",
    "X_train_subset = X_train[selected_features]\n",
    "\n",
    "# Initialize and train the linear regression model\n",
    "model = LinearRegression()\n",
    "model.fit(X_train_subset, y_train)\n",
    "\n",
    "# Predict on the training data\n",
    "y_train_pred = model.predict(X_train_subset)\n",
    "\n",
    "# Evaluate the model\n",
    "mse_train = mean_squared_error(y_train, y_train_pred)\n",
    "r2_train = r2_score(y_train, y_train_pred)\n",
    "\n",
    "print(\"Training MSE:\", mse_train)\n",
    "print(\"Training R-squared:\", r2_train)\n",
    "# Calculate MAPE for training set\n",
    "mape_train = np.mean(np.abs((y_train - y_train_pred) / y_train)) * 100\n",
    "\n",
    "print(\"Training MAPE:\", mape_train)"
   ]
  },
  {
   "cell_type": "code",
   "execution_count": 5,
   "metadata": {},
   "outputs": [
    {
     "name": "stdout",
     "output_type": "stream",
     "text": [
      "Testing MSE: 103.93231410905388\n",
      "Testing R-squared: 0.9913145961211361\n",
      "Test MAPE: 21.08691149393886\n"
     ]
    }
   ],
   "source": [
    "# Subset X_test to include only the selected features\n",
    "X_test_subset = X_test[selected_features]\n",
    "\n",
    "# Predict on the testing data\n",
    "y_test_pred = model.predict(X_test_subset)\n",
    "\n",
    "# Evaluate the model on testing data\n",
    "mse_test = mean_squared_error(y_test, y_test_pred)\n",
    "r2_test = r2_score(y_test, y_test_pred)\n",
    "\n",
    "print(\"Testing MSE:\", mse_test)\n",
    "print(\"Testing R-squared:\", r2_test)\n",
    "# Calculate MAPE for training set\n",
    "mape_train = np.mean(np.abs((y_test - y_test_pred) / y_test)) * 100\n",
    "\n",
    "print(\"Test MAPE:\", mape_train)"
   ]
  }
 ],
 "metadata": {
  "kernelspec": {
   "display_name": "Python 3",
   "language": "python",
   "name": "python3"
  },
  "language_info": {
   "codemirror_mode": {
    "name": "ipython",
    "version": 3
   },
   "file_extension": ".py",
   "mimetype": "text/x-python",
   "name": "python",
   "nbconvert_exporter": "python",
   "pygments_lexer": "ipython3",
   "version": "3.9.6"
  }
 },
 "nbformat": 4,
 "nbformat_minor": 2
}
