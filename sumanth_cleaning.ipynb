{
 "cells": [
  {
   "cell_type": "code",
   "execution_count": null,
   "metadata": {},
   "outputs": [],
   "source": [
    "import pandas as pd\n",
    "import numpy as np\n",
    "from datetime import datetime \n",
    "\n",
    "fs = pd.read_csv('flights_sample_3m.csv')"
   ]
  },
  {
   "cell_type": "code",
   "execution_count": null,
   "metadata": {},
   "outputs": [],
   "source": [
    "# Assuming 'fs' is your DataFrame\n",
    "# Create a mask to filter rows where at least one of the columns has a nonzero and non-null value\n",
    "mask = (\n",
    "    (fs['DELAY_DUE_CARRIER'].notnull() & fs['DELAY_DUE_CARRIER'] != 0) | \n",
    "    (fs['DELAY_DUE_WEATHER'].notnull() & fs['DELAY_DUE_WEATHER'] != 0)\n",
    ")\n",
    "\n",
    "# Add additional conditions to ensure 'DELAY_DUE_NAS', 'DELAY_DUE_SECURITY', and 'DELAY_DUE_LATE_AIRCRAFT' are either 0 or null\n",
    "mask &= (\n",
    "    (fs['DELAY_DUE_NAS'].isnull() | (fs['DELAY_DUE_NAS'] == 0)) &\n",
    "    (fs['DELAY_DUE_SECURITY'].isnull() | (fs['DELAY_DUE_SECURITY'] == 0)) &\n",
    "    (fs['DELAY_DUE_LATE_AIRCRAFT'].isnull() | (fs['DELAY_DUE_LATE_AIRCRAFT'] == 0))\n",
    ")\n",
    "\n",
    "# Apply the mask to filter the DataFrame\n",
    "fs = fs[mask]\n",
    "\n",
    "fs.head(20)\n"
   ]
  },
  {
   "cell_type": "code",
   "execution_count": null,
   "metadata": {},
   "outputs": [],
   "source": [
    "columns_to_keep = [\n",
    "    'FL_DATE', 'DOT_CODE',\n",
    "    'FL_NUMBER', 'CRS_DEP_TIME',\n",
    "    'DEP_TIME', 'DEP_DELAY', 'TAXI_OUT', 'WHEELS_OFF', 'CRS_ARR_TIME',\n",
    "    'ARR_DELAY', 'CRS_ELAPSED_TIME', 'DISTANCE'\n",
    "]\n",
    "\n",
    "# Select only the columns you want to keep\n",
    "fs = fs.loc[:, columns_to_keep]\n",
    "fs.head(10)"
   ]
  }
 ],
 "metadata": {
  "language_info": {
   "name": "python"
  }
 },
 "nbformat": 4,
 "nbformat_minor": 2
}
