{
 "cells": [
  {
   "cell_type": "code",
   "execution_count": 13,
   "metadata": {},
   "outputs": [],
   "source": [
    "import numpy as np\n",
    "import pandas as pd\n",
    "from sklearn.model_selection import train_test_split\n",
    "from sklearn.linear_model import Lasso, LinearRegression\n",
    "from sklearn.metrics import mean_squared_error, mean_absolute_error\n",
    "from sklearn.metrics import r2_score\n",
    "import matplotlib.pyplot as plt\n",
    "import seaborn as sns\n",
    "from sklearn.svm import SVR\n",
    "from sklearn import tree\n",
    "from sklearn.metrics import classification_report, accuracy_score, f1_score\n",
    "from sklearn.ensemble import RandomForestRegressor\n",
    "from sklearn.model_selection import cross_val_score\n",
    "from sklearn.linear_model import LinearRegression\n",
    "import graphviz"
   ]
  },
  {
   "cell_type": "code",
   "execution_count": 14,
   "metadata": {},
   "outputs": [],
   "source": [
    "flights_df = pd.read_csv('complete_flight_info_and weather_data.csv')\n",
    "\n",
    "# convert flight date to date object\n",
    "flights_df = flights_df.drop(['date', 'date.1','CRS_DEP_TIME','ORIGIN','DEST'], axis=1)\n",
    "\n",
    "flights_df = flights_df.dropna()\n",
    " \n",
    "flights_df['FL_DATE'] = pd.to_datetime(flights_df['FL_DATE'])\n",
    "del flights_df['DOT_CODE']\n",
    "# Remove columns starting with 'origin' and 'dest'\n",
    "columns_to_remove = [col for col in flights_df.columns if col.startswith('ORIGIN') or col.startswith('DEST')]\n",
    "flights_df = flights_df.drop(columns=columns_to_remove)\n",
    "\n",
    "# converts string TRUE/FALSE to boolean\n",
    "flights_df.replace({'TRUE': True, 'FALSE': False}, inplace=True)\n",
    "\n",
    "# convert FL_Date to year, month, day\n",
    "flights_df['FL_YEAR'] = pd.to_datetime(flights_df['FL_DATE']).dt.year\n",
    "flights_df['FL_MONTH'] = pd.to_datetime(flights_df['FL_DATE']).dt.month\n",
    "flights_df['FL_DAY'] = pd.to_datetime(flights_df['FL_DATE']).dt.day\n",
    "\n",
    "# drop original date time\n",
    "flights_df.drop(columns=['FL_DATE'], inplace=True)\n",
    "\n",
    "X = flights_df.loc[:, flights_df.columns != 'ARR_DELAY']\n",
    "y = flights_df['ARR_DELAY']\n",
    "\n",
    "X_train, X_test, y_train, y_test = train_test_split(X, y, test_size=0.2, random_state = 156, shuffle=True)"
   ]
  },
  {
   "cell_type": "code",
   "execution_count": 15,
   "metadata": {},
   "outputs": [
    {
     "name": "stdout",
     "output_type": "stream",
     "text": [
      "|--- DEP_DELAY <= 417.00\n",
      "|   |--- DEP_DELAY <= 127.50\n",
      "|   |   |--- value: [42.01]\n",
      "|   |--- DEP_DELAY >  127.50\n",
      "|   |   |--- value: [191.13]\n",
      "|--- DEP_DELAY >  417.00\n",
      "|   |--- DEP_DELAY <= 841.50\n",
      "|   |   |--- value: [577.56]\n",
      "|   |--- DEP_DELAY >  841.50\n",
      "|   |   |--- value: [1090.99]\n",
      "\n"
     ]
    }
   ],
   "source": [
    "model = tree.DecisionTreeRegressor(max_depth=2, random_state=156) \n",
    "model = model.fit(X_train, y_train)\n",
    "\n",
    "model_text = tree.export_text(model, feature_names=list(X_train.columns))\n",
    "print(model_text)"
   ]
  },
  {
   "cell_type": "code",
   "execution_count": 16,
   "metadata": {},
   "outputs": [
    {
     "name": "stdout",
     "output_type": "stream",
     "text": [
      "Feature Importance:\n",
      "FL_NUMBER: 0.0\n",
      "DEP_TIME: 0.0\n",
      "DEP_DELAY: 1.0\n",
      "TAXI_OUT: 0.0\n",
      "WHEELS_OFF: 0.0\n",
      "CRS_ARR_TIME: 0.0\n",
      "CRS_ELAPSED_TIME: 0.0\n",
      "DISTANCE: 0.0\n",
      "dep_temperature_2m: 0.0\n",
      "dep_apparent_temperature: 0.0\n",
      "dep_rain: 0.0\n",
      "dep_wind_speed_10m: 0.0\n",
      "dep_wind_speed_100m: 0.0\n",
      "dep_cloud_cover: 0.0\n",
      "dep_cloud_cover_low: 0.0\n",
      "dep_cloud_cover_mid: 0.0\n",
      "dep_cloud_cover_high: 0.0\n",
      "dep_wind_direction_10m: 0.0\n",
      "dep_wind_direction_100m: 0.0\n",
      "dep_wind_gusts_10m: 0.0\n",
      "dep_snow_depth: 0.0\n",
      "dest_temperature_2m: 0.0\n",
      "dest_apparent_temperature: 0.0\n",
      "dest_rain: 0.0\n",
      "dest_wind_speed_10m: 0.0\n",
      "dest_wind_speed_100m: 0.0\n",
      "dest_cloud_cover: 0.0\n",
      "dest_cloud_cover_low: 0.0\n",
      "dest_cloud_cover_mid: 0.0\n",
      "dest_cloud_cover_high: 0.0\n",
      "dest_wind_direction_10m: 0.0\n",
      "dest_wind_direction_100m: 0.0\n",
      "dest_wind_gusts_10m: 0.0\n",
      "dest_snow_depth: 0.0\n",
      "FL_YEAR: 0.0\n",
      "FL_MONTH: 0.0\n",
      "FL_DAY: 0.0\n"
     ]
    }
   ],
   "source": [
    "fi = model.feature_importances_\n",
    "\n",
    "names = X_train.columns\n",
    "importance_dict = dict(zip(names, fi))\n",
    "\n",
    "print(\"Feature Importance:\")\n",
    "for feature, importance in importance_dict.items():\n",
    "    print(f\"{feature}: {importance}\")"
   ]
  },
  {
   "cell_type": "code",
   "execution_count": 17,
   "metadata": {},
   "outputs": [
    {
     "name": "stdout",
     "output_type": "stream",
     "text": [
      "1577.5270404657927 0.8681693985770631\n"
     ]
    }
   ],
   "source": [
    "preds = model.predict(X_test)\n",
    "print(mean_squared_error(y_test, preds), r2_score(y_test, preds))"
   ]
  },
  {
   "cell_type": "code",
   "execution_count": 18,
   "metadata": {},
   "outputs": [
    {
     "name": "stdout",
     "output_type": "stream",
     "text": [
      "Depth of the model yielding minimum test MSE is: 10\n",
      "Optimized model has MSE: 88.23135609204158 Optimized model has R2: 0.9926266920061537 Optimized model has MAPE: 16.060176012874166\n"
     ]
    }
   ],
   "source": [
    "mse = {'k':[], 'train_mse':[], 'test_mse':[], 'train_r2':[], 'test_r2':[], 'test_MAPE': []}\n",
    "for k in range(1,30):\n",
    "    print(\"Fit with max_depth:\", k, end='\\r', flush=True)\n",
    "    \n",
    "    model = tree.DecisionTreeRegressor(max_depth=k)\n",
    "    model = model.fit(X_train, y_train)\n",
    "    preds_train = model.predict(X_train)\n",
    "    y_test_pred = model.predict(X_test)\n",
    "\n",
    "    mse['k'].append(k)\n",
    "    mse['train_mse'].append(mean_squared_error(y_train, preds_train))\n",
    "    mse['test_mse'].append(mean_squared_error(y_test, y_test_pred))\n",
    "    mse['train_r2'].append(r2_score(y_train, preds_train))\n",
    "    mse['test_r2'].append(r2_score(y_test, y_test_pred))\n",
    "    # Calculate MAPE\n",
    "    abs_errors = np.abs(y_test - y_test_pred)\n",
    "    percentage_errors = (abs_errors / y_test) * 100\n",
    "    mse['test_MAPE'].append(np.mean(percentage_errors))\n",
    "\n",
    "    \n",
    "idx = mse['test_mse'].index(min(mse['test_mse']))\n",
    "print('Depth of the model yielding minimum test MSE is:', mse['k'][idx])\n",
    "print('Optimized model has MSE:', min(mse['test_mse']), 'Optimized model has R2:', mse['test_r2'][idx], 'Optimized model has MAPE:', mse['test_MAPE'][idx])"
   ]
  },
  {
   "cell_type": "markdown",
   "metadata": {},
   "source": []
  }
 ],
 "metadata": {
  "kernelspec": {
   "display_name": "Python 3",
   "language": "python",
   "name": "python3"
  },
  "language_info": {
   "codemirror_mode": {
    "name": "ipython",
    "version": 3
   },
   "file_extension": ".py",
   "mimetype": "text/x-python",
   "name": "python",
   "nbconvert_exporter": "python",
   "pygments_lexer": "ipython3",
   "version": "3.9.6"
  }
 },
 "nbformat": 4,
 "nbformat_minor": 2
}
