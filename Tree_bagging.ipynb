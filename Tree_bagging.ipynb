{
 "cells": [
  {
   "cell_type": "code",
   "execution_count": 45,
   "id": "ba5937f5",
   "metadata": {},
   "outputs": [],
   "source": [
    "import warnings\n",
    "warnings.simplefilter(\"ignore\")\n",
    "import numpy as np\n",
    "import pandas as pd\n",
    "import seaborn as sns\n",
    "from sklearn.model_selection import cross_val_score, train_test_split, cross_validate\n",
    "from sklearn.linear_model import LinearRegression\n",
    "import matplotlib.pyplot as plt\n",
    "from sklearn.metrics import mean_squared_error\n",
    "from sklearn.metrics import mean_squared_error, r2_score\n",
    "from sklearn.ensemble import BaggingRegressor"
   ]
  },
  {
   "cell_type": "code",
   "execution_count": 46,
   "id": "8b7e01a5",
   "metadata": {},
   "outputs": [],
   "source": [
    "df = pd.read_csv('complete_flight_info_and weather_data.csv')\n",
    "\n",
    "# convert flight date to date object\n",
    "df = df.drop(['date', 'date.1','CRS_DEP_TIME','ORIGIN','DEST'], axis=1)\n",
    "\n",
    "df = df.dropna()\n",
    " \n",
    "df['FL_DATE'] = pd.to_datetime(df['FL_DATE'])\n",
    "del df['DOT_CODE']\n",
    "# Remove columns starting with 'origin' and 'dest'\n",
    "columns_to_remove = [col for col in df.columns if col.startswith('ORIGIN') or col.startswith('DEST')]\n",
    "df = df.drop(columns=columns_to_remove)\n",
    "\n",
    "# converts string TRUE/FALSE to boolean\n",
    "df.replace({'TRUE': True, 'FALSE': False}, inplace=True)\n",
    "\n",
    "# convert FL_Date to year, month, day\n",
    "df['FL_YEAR'] = pd.to_datetime(df['FL_DATE']).dt.year\n",
    "df['FL_MONTH'] = pd.to_datetime(df['FL_DATE']).dt.month\n",
    "df['FL_DAY'] = pd.to_datetime(df['FL_DATE']).dt.day\n",
    "\n",
    "# drop original date time\n",
    "df.drop(columns=['FL_DATE'], inplace=True)\n"
   ]
  },
  {
   "cell_type": "code",
   "execution_count": 47,
   "id": "7dba250f",
   "metadata": {},
   "outputs": [],
   "source": [
    "y = df['ARR_DELAY']\n",
    "X = df.drop(['ARR_DELAY'], axis = 1)\n",
    "\n",
    "X_train, X_test, y_train, y_test = train_test_split(X, y, test_size = 0.2, random_state=156)\n",
    "\n"
   ]
  },
  {
   "cell_type": "code",
   "execution_count": 48,
   "id": "af6ff64b",
   "metadata": {},
   "outputs": [
    {
     "name": "stdout",
     "output_type": "stream",
     "text": [
      "Best CV Score: 111.87173857694908\n",
      "Selected features in Best Selection: ['DEP_DELAY', 'TAXI_OUT', 'CRS_ELAPSED_TIME', 'DISTANCE', 'FL_NUMBER', 'FL_YEAR', 'dest_cloud_cover', 'DEP_TIME', 'dep_temperature_2m', 'dest_snow_depth', 'dest_wind_direction_100m', 'CRS_ARR_TIME', 'dest_rain', 'dest_wind_gusts_10m', 'dest_wind_speed_100m', 'dest_wind_speed_10m', 'WHEELS_OFF', 'dep_snow_depth', 'dest_cloud_cover_mid', 'dep_cloud_cover_mid', 'dep_wind_direction_10m', 'dest_wind_direction_10m']\n",
      "No of trials required: 598\n"
     ]
    }
   ],
   "source": [
    "# Initialize variables\n",
    "remaining_features = list(X_train.columns)\n",
    "selected_features= []\n",
    "best_score = np.inf\n",
    "count = 0\n",
    "\n",
    "# Selection Loop\n",
    "while len(remaining_features) > 0:\n",
    "    best_feature = None\n",
    "    # Loop to find next best feature to add to the list\n",
    "    for feature in remaining_features:\n",
    "        model          = LinearRegression()\n",
    "        # try the below set of featuresS\n",
    "        trial_features = selected_features + [feature]\n",
    "        \n",
    "        # Cross-validation score\n",
    "        scores = cross_validate(model, X_train[trial_features], y_train, scoring='neg_mean_squared_error', cv=5)\n",
    "        score = -np.mean(scores['test_score'])  # Note the negative sign\n",
    "\n",
    "#         print(score.round(2), trial_features)\n",
    "        \n",
    "        # If the new addition improved the scores, update best score\n",
    "        if score < best_score:\n",
    "            best_score   = score\n",
    "            best_feature = feature\n",
    "\n",
    "        count += 1\n",
    "\n",
    "    if best_feature is not None:\n",
    "        selected_features.append(best_feature)\n",
    "        remaining_features.remove(best_feature)\n",
    "    else:\n",
    "        break\n",
    "\n",
    "print(f\"Best CV Score: {best_score}\")\n",
    "print(\"Selected features in Best Selection:\", selected_features)\n",
    "print(f\"No of trials required: {count}\")\n"
   ]
  },
  {
   "cell_type": "code",
   "execution_count": 49,
   "id": "d02d4405",
   "metadata": {},
   "outputs": [
    {
     "name": "stdout",
     "output_type": "stream",
     "text": [
      "Training MSE: 111.58105277530602\n",
      "Training R-squared: 0.9926319132689244\n",
      "Training MAPE: 20.70613450985154\n"
     ]
    }
   ],
   "source": [
    "X_train_subset = X_train[selected_features]\n",
    "\n",
    "# Initialize and train the linear regression model\n",
    "model = LinearRegression()\n",
    "model.fit(X_train_subset, y_train)\n",
    "\n",
    "# Predict on the training data\n",
    "y_train_pred = model.predict(X_train_subset)\n",
    "\n",
    "# Evaluate the model\n",
    "mse_train = mean_squared_error(y_train, y_train_pred)\n",
    "r2_train = r2_score(y_train, y_train_pred)\n",
    "\n",
    "print(\"Training MSE:\", mse_train)\n",
    "print(\"Training R-squared:\", r2_train)\n",
    "# Calculate MAPE for training set\n",
    "mape_train = np.mean(np.abs((y_train - y_train_pred) / y_train)) * 100\n",
    "\n",
    "print(\"Training MAPE:\", mape_train)"
   ]
  },
  {
   "cell_type": "code",
   "execution_count": 50,
   "id": "b86cd4f6",
   "metadata": {},
   "outputs": [],
   "source": [
    "# Subset X_test to include only the selected features\n",
    "X_test_subset = X_test[selected_features]\n",
    "\n",
    "# Predict on the testing data\n",
    "y_test_pred = model.predict(X_test_subset)\n",
    "\n",
    "# Evaluate the model on testing data\n",
    "mse_test = mean_squared_error(y_test, y_test_pred)\n",
    "r2_test = r2_score(y_test, y_test_pred)\n",
    "\n",
    "\n",
    "# Calculate MAPE for training set\n",
    "mape_train = np.mean(np.abs((y_test - y_test_pred) / y_test)) * 100\n",
    "\n"
   ]
  },
  {
   "cell_type": "code",
   "execution_count": 51,
   "id": "4e5311af",
   "metadata": {},
   "outputs": [
    {
     "name": "stdout",
     "output_type": "stream",
     "text": [
      "261.19033600340134 0.9781728755210304\n"
     ]
    }
   ],
   "source": [
    "model_bag = BaggingRegressor(n_estimators=100, random_state=156, max_features=30)\n",
    "\n",
    "model_bag.fit(X_train, y_train)\n",
    "preds_test = model_bag.predict(X_test)\n",
    "print(mean_squared_error(y_test, preds_test), r2_score(y_test, preds_test))"
   ]
  },
  {
   "cell_type": "code",
   "execution_count": null,
   "id": "0f93fbe3",
   "metadata": {},
   "outputs": [
    {
     "name": "stdout",
     "output_type": "stream",
     "text": [
      "Fit with n_estimators: 9\r"
     ]
    }
   ],
   "source": [
    "mse = {'train_mse':[], 'test_mse':[], 'n':[], 'r_squared':[], 'mape':[]}\n",
    "\n",
    "for n in range(5,10,1):\n",
    "    print(\"Fit with n_estimators:\", n, end='\\r', flush=True)\n",
    "    \n",
    "    model_bag = BaggingRegressor(n_estimators=n, random_state=156)\n",
    "    model_bag = model_bag.fit(X_train, y_train)\n",
    "    preds_train = model_bag.predict(X_train)\n",
    "    preds_test = model_bag.predict(X_test)\n",
    "    \n",
    "    mse['n'].append(n)\n",
    "    mse['train_mse'].append(mean_squared_error(y_train, preds_train))\n",
    "    mse['test_mse'].append(mean_squared_error(y_test, preds_test))\n",
    "    mse['r_squared'].append( r2_score(y_test, preds_test))\n",
    "    \n",
    "    abs_errors = np.abs(y_test - y_test_pred)\n",
    "    percentage_errors = (abs_errors / y_test) * 100\n",
    "    mape = np.mean(percentage_errors)\n",
    "    mse['mape'].append(mape)\n",
    "\n",
    "    \n",
    "idx = mse['test_mse'].index(min(mse['test_mse']))\n",
    "print('Bagging model yielding optimized test MSE has n_estimators:', mse['n'][idx])\n",
    "print('Optimized model has MSE:', min(mse['test_mse']))\n",
    "print('r_squared', min(mse['r_squared']))\n",
    "print('mape', min(mse['mape']))"
   ]
  },
  {
   "cell_type": "code",
   "execution_count": null,
   "id": "866b12a3",
   "metadata": {},
   "outputs": [],
   "source": []
  }
 ],
 "metadata": {
  "kernelspec": {
   "display_name": "Python 3 (ipykernel)",
   "language": "python",
   "name": "python3"
  },
  "language_info": {
   "codemirror_mode": {
    "name": "ipython",
    "version": 3
   },
   "file_extension": ".py",
   "mimetype": "text/x-python",
   "name": "python",
   "nbconvert_exporter": "python",
   "pygments_lexer": "ipython3",
   "version": "3.11.5"
  }
 },
 "nbformat": 4,
 "nbformat_minor": 5
}
