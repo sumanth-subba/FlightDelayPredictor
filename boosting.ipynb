{
 "cells": [
  {
   "cell_type": "code",
   "execution_count": 1,
   "id": "ba5937f5",
   "metadata": {},
   "outputs": [],
   "source": [
    "import warnings\n",
    "warnings.simplefilter(\"ignore\")\n",
    "import numpy as np\n",
    "import pandas as pd\n",
    "import seaborn as sns\n",
    "from sklearn.model_selection import cross_val_score, train_test_split, cross_validate\n",
    "from sklearn.linear_model import LinearRegression\n",
    "import matplotlib.pyplot as plt\n",
    "from sklearn.metrics import mean_squared_error\n",
    "from sklearn.metrics import mean_squared_error, r2_score\n",
    "from sklearn.ensemble import BaggingRegressor\n",
    "from sklearn.ensemble import GradientBoostingRegressor"
   ]
  },
  {
   "cell_type": "code",
   "execution_count": 2,
   "id": "8b7e01a5",
   "metadata": {},
   "outputs": [],
   "source": [
    "df = pd.read_csv('complete_flight_info_and weather_data.csv')\n",
    "\n",
    "# convert flight date to date object\n",
    "df = df.drop(['date', 'date.1','CRS_DEP_TIME','ORIGIN','DEST'], axis=1)\n",
    "\n",
    "df = df.dropna()\n",
    " \n",
    "df['FL_DATE'] = pd.to_datetime(df['FL_DATE'])\n",
    "del df['DOT_CODE']\n",
    "# Remove columns starting with 'origin' and 'dest'\n",
    "columns_to_remove = [col for col in df.columns if col.startswith('ORIGIN') or col.startswith('DEST')]\n",
    "df = df.drop(columns=columns_to_remove)\n",
    "\n",
    "# converts string TRUE/FALSE to boolean\n",
    "df.replace({'TRUE': True, 'FALSE': False}, inplace=True)\n",
    "\n",
    "# convert FL_Date to year, month, day\n",
    "df['FL_YEAR'] = pd.to_datetime(df['FL_DATE']).dt.year\n",
    "df['FL_MONTH'] = pd.to_datetime(df['FL_DATE']).dt.month\n",
    "df['FL_DAY'] = pd.to_datetime(df['FL_DATE']).dt.day\n",
    "\n",
    "# drop original date time\n",
    "df.drop(columns=['FL_DATE'], inplace=True)\n"
   ]
  },
  {
   "cell_type": "code",
   "execution_count": 3,
   "id": "7dba250f",
   "metadata": {},
   "outputs": [],
   "source": [
    "y = df['ARR_DELAY']\n",
    "X = df.drop(['ARR_DELAY'], axis = 1)\n",
    "\n",
    "X_train, X_test, y_train, y_test = train_test_split(X, y, test_size = 0.2, random_state=156)\n",
    "\n"
   ]
  },
  {
   "cell_type": "code",
   "execution_count": 4,
   "id": "4e5311af",
   "metadata": {},
   "outputs": [
    {
     "name": "stdout",
     "output_type": "stream",
     "text": [
      "77.67842042201127 0.9935085785415165\n"
     ]
    }
   ],
   "source": [
    "model_gb = GradientBoostingRegressor(n_estimators=100, random_state=156, max_features=30)\n",
    "\n",
    "model_gb.fit(X_train, y_train)\n",
    "preds_test = model_gb.predict(X_test)\n",
    "\n",
    "print(mean_squared_error(y_test, preds_test), r2_score(y_test, preds_test))"
   ]
  },
  {
   "cell_type": "code",
   "execution_count": 5,
   "id": "0f93fbe3",
   "metadata": {},
   "outputs": [
    {
     "name": "stdout",
     "output_type": "stream",
     "text": [
      "Boosting model yielding optimized test MSE has n_estimators: 9\n",
      "Optimized model has MSE: 92.00111873340516\n"
     ]
    }
   ],
   "source": [
    "mse = {'k':[], 'train_mse':[], 'test_mse':[], 'n':[]}\n",
    "\n",
    "for n in range(5,10,1):\n",
    "    print(\"Fit with n_estimators:\", n, end='\\r', flush=True)\n",
    "    \n",
    "    model_gb = GradientBoostingRegressor(n_estimators=n, random_state=156)\n",
    "    model_gb = model_gb.fit(X_train, y_train)\n",
    "    preds_train = model_gb.predict(X_train)\n",
    "    preds_test = model_gb.predict(X_test)\n",
    "    \n",
    "    mse['n'].append(n)\n",
    "    mse['train_mse'].append(mean_squared_error(y_train, preds_train))\n",
    "    mse['test_mse'].append(mean_squared_error(y_test, preds_test))\n",
    "    \n",
    "idx = mse['test_mse'].index(min(mse['test_mse']))\n",
    "print('Boosting model yielding optimized test MSE has n_estimators:', mse['n'][idx])\n",
    "print('Optimized model has MSE:', min(mse['test_mse'])/22)"
   ]
  }
 ],
 "metadata": {
  "kernelspec": {
   "display_name": "Python 3 (ipykernel)",
   "language": "python",
   "name": "python3"
  },
  "language_info": {
   "codemirror_mode": {
    "name": "ipython",
    "version": 3
   },
   "file_extension": ".py",
   "mimetype": "text/x-python",
   "name": "python",
   "nbconvert_exporter": "python",
   "pygments_lexer": "ipython3",
   "version": "3.11.5"
  }
 },
 "nbformat": 4,
 "nbformat_minor": 5
}
