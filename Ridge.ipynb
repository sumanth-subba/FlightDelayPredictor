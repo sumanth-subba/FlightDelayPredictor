{
 "cells": [
  {
   "cell_type": "code",
   "execution_count": 1,
   "metadata": {},
   "outputs": [],
   "source": [
    "import numpy as np\n",
    "import pandas as pd\n",
    "from sklearn.model_selection import train_test_split\n",
    "from sklearn.linear_model import Ridge, LinearRegression\n",
    "from sklearn.metrics import mean_squared_error, mean_absolute_error\n",
    "from sklearn.preprocessing import PolynomialFeatures\n",
    "from sklearn.metrics import r2_score\n",
    "from sklearn.metrics import mean_absolute_percentage_error\n",
    "import matplotlib.pyplot as plt\n",
    "import seaborn as sns\n",
    "from sklearn.svm import SVR"
   ]
  },
  {
   "cell_type": "code",
   "execution_count": 2,
   "metadata": {},
   "outputs": [],
   "source": [
    " \n",
    "flights_df = pd.read_csv('complete_flight_info_and weather_data.csv.csv')\n",
    "\n",
    "# convert flight date to date object\n",
    "flights_df = flights_df.drop(['date', 'date.1','CRS_DEP_TIME','ORIGIN','DEST'], axis=1)\n",
    "\n",
    "flights_df = flights_df.dropna()\n",
    " \n",
    "flights_df['FL_DATE'] = pd.to_datetime(flights_df['FL_DATE'])\n",
    "del flights_df['DOT_CODE']\n",
    "# Remove columns starting with 'origin' and 'dest'\n",
    "columns_to_remove = [col for col in flights_df.columns if col.startswith('ORIGIN') or col.startswith('DEST')]\n",
    "flights_df = flights_df.drop(columns=columns_to_remove)\n",
    "\n",
    "# converts string TRUE/FALSE to boolean\n",
    "flights_df.replace({'TRUE': True, 'FALSE': False}, inplace=True)\n",
    "\n",
    "# convert FL_Date to year, month, day\n",
    "flights_df['FL_YEAR'] = pd.to_datetime(flights_df['FL_DATE']).dt.year\n",
    "flights_df['FL_MONTH'] = pd.to_datetime(flights_df['FL_DATE']).dt.month\n",
    "flights_df['FL_DAY'] = pd.to_datetime(flights_df['FL_DATE']).dt.day\n",
    "\n",
    "# drop original date time\n",
    "flights_df.drop(columns=['FL_DATE'], inplace=True)\n",
    "\n",
    "\n",
    "X = flights_df.loc[:, flights_df.columns != 'ARR_DELAY']\n",
    "y = flights_df['ARR_DELAY']\n",
    "\n",
    "X_train, X_test, y_train, y_test = train_test_split(X, y, test_size=0.2, random_state = 156, shuffle=True)\n"
   ]
  },
  {
   "cell_type": "code",
   "execution_count": 3,
   "metadata": {},
   "outputs": [],
   "source": [
    "def ridge_regression(X_train, X_test, y_train, y_test):\n",
    "    ridge_model = Ridge(alpha=1.0)\n",
    "    ridge_model.fit(X_train, y_train)\n",
    "    y_pred = ridge_model.predict(X_test)\n",
    "    \n",
    "\n",
    "    print(\"Ridge:\")\n",
    "    print('MSE: ' + str(mean_squared_error(y_pred, y_test)))\n",
    "    print('MAE: ' + str(mean_absolute_error(y_pred, y_test)))\n",
    "    print('R2: ' + str(r2_score(y_pred, y_test)))\n",
    "    print('MAPE: ' + str(mean_absolute_percentage_error(y_test, y_pred)))\n"
   ]
  },
  {
   "cell_type": "code",
   "execution_count": 4,
   "metadata": {},
   "outputs": [
    {
     "name": "stdout",
     "output_type": "stream",
     "text": [
      "Ridge:\n",
      "MSE: 102.77870001187243\n",
      "MAE: 6.991778332676211\n",
      "R2: 0.9913853524618236\n",
      "MAPE: 0.21030897548289632\n"
     ]
    }
   ],
   "source": [
    "ridge_regression(X_train, X_test, y_train, y_test)"
   ]
  }
 ],
 "metadata": {
  "kernelspec": {
   "display_name": "Python 3",
   "language": "python",
   "name": "python3"
  },
  "language_info": {
   "codemirror_mode": {
    "name": "ipython",
    "version": 3
   },
   "file_extension": ".py",
   "mimetype": "text/x-python",
   "name": "python",
   "nbconvert_exporter": "python",
   "pygments_lexer": "ipython3",
   "version": "3.11.2"
  }
 },
 "nbformat": 4,
 "nbformat_minor": 2
}
